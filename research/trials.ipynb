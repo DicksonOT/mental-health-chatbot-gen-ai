{
 "cells": [
  {
   "cell_type": "code",
   "execution_count": 2,
   "id": "0faddd9a",
   "metadata": {},
   "outputs": [
    {
     "name": "stdout",
     "output_type": "stream",
     "text": [
      "Osei Tutu\n"
     ]
    }
   ],
   "source": [
    "print(\"Osei Tutu\")"
   ]
  },
  {
   "cell_type": "code",
   "execution_count": 3,
   "id": "c2e8eb91",
   "metadata": {},
   "outputs": [
    {
     "name": "stdout",
     "output_type": "stream",
     "text": [
      "Hello World!\n"
     ]
    }
   ],
   "source": [
    "print(\"Hello World!\")"
   ]
  },
  {
   "cell_type": "code",
   "execution_count": 4,
   "id": "96677948",
   "metadata": {},
   "outputs": [
    {
     "data": {
      "text/plain": [
       "'c:\\\\Users\\\\Osei Tutu Dickson\\\\Desktop\\\\Gen AI\\\\mental-health-chatbot-gen-ai\\\\research'"
      ]
     },
     "execution_count": 4,
     "metadata": {},
     "output_type": "execute_result"
    }
   ],
   "source": [
    "%pwd"
   ]
  },
  {
   "cell_type": "code",
   "execution_count": 12,
   "id": "25a6f7c8",
   "metadata": {},
   "outputs": [],
   "source": [
    "import os\n"
   ]
  },
  {
   "cell_type": "code",
   "execution_count": 1,
   "id": "77355ef4",
   "metadata": {},
   "outputs": [],
   "source": [
    "from langchain.document_loaders import PyPDFLoader, DirectoryLoader\n",
    "from langchain.text_splitter import RecursiveCharacterTextSplitter"
   ]
  },
  {
   "cell_type": "code",
   "execution_count": 2,
   "id": "1c7c5691",
   "metadata": {},
   "outputs": [],
   "source": [
    "#extract the data\n",
    "def load_pdf_file(data):\n",
    "    loader= DirectoryLoader(data, glob= '*.pdf', loader_cls=PyPDFLoader)\n",
    "\n",
    "    documents = loader.load()\n",
    "\n",
    "    return documents"
   ]
  },
  {
   "cell_type": "code",
   "execution_count": null,
   "id": "d5c3483c",
   "metadata": {},
   "outputs": [
    {
     "name": "stdout",
     "output_type": "stream",
     "text": [
      "45.0.4\n"
     ]
    }
   ],
   "source": [
    "# import cryptography\n",
    "# print(cryptography.__version__)\n"
   ]
  },
  {
   "cell_type": "code",
   "execution_count": 3,
   "id": "22cb86da",
   "metadata": {},
   "outputs": [],
   "source": [
    "extracted_data = load_pdf_file(data='C:/Users/Osei Tutu Dickson/Desktop/Gen AI/mental-health-chatbot-gen-ai/Data/')"
   ]
  },
  {
   "cell_type": "code",
   "execution_count": null,
   "id": "99af8fdd",
   "metadata": {},
   "outputs": [],
   "source": [
    "# extracted_data"
   ]
  },
  {
   "cell_type": "code",
   "execution_count": 4,
   "id": "ef81bca1",
   "metadata": {},
   "outputs": [],
   "source": [
    "#split data into text chunks\n",
    "def text_split(extracted_data):\n",
    "    text_splitter = RecursiveCharacterTextSplitter(chunk_size = 500, chunk_overlap = 20)\n",
    "    text_chunks =  text_splitter.split_documents(extracted_data)\n",
    "\n",
    "    return text_chunks"
   ]
  },
  {
   "cell_type": "code",
   "execution_count": 5,
   "id": "2718f380",
   "metadata": {},
   "outputs": [
    {
     "name": "stdout",
     "output_type": "stream",
     "text": [
      "The number of chunks are: 109\n"
     ]
    }
   ],
   "source": [
    "text_chunks = text_split(extracted_data)\n",
    "print(\"The number of chunks are:\", len(text_chunks))"
   ]
  },
  {
   "cell_type": "code",
   "execution_count": null,
   "id": "f0a91766",
   "metadata": {},
   "outputs": [],
   "source": [
    "text_chunks"
   ]
  },
  {
   "cell_type": "code",
   "execution_count": 7,
   "id": "7afbae25",
   "metadata": {},
   "outputs": [],
   "source": [
    "from langchain.embeddings import HuggingFaceEmbeddings"
   ]
  },
  {
   "cell_type": "code",
   "execution_count": 8,
   "id": "41101c6a",
   "metadata": {},
   "outputs": [],
   "source": [
    "# Download the embeddigs frmom hugging face\n",
    "def download_from_hugging_face_embeddings():\n",
    "    embeddings=HuggingFaceEmbeddings(model_name= 'sentence-transformers/all-MiniLM-L6-v2')\n",
    "    \n",
    "    return embeddings"
   ]
  },
  {
   "cell_type": "code",
   "execution_count": 10,
   "id": "f0e0de7f",
   "metadata": {},
   "outputs": [
    {
     "name": "stderr",
     "output_type": "stream",
     "text": [
      "C:\\Users\\Osei Tutu Dickson\\AppData\\Local\\Temp\\ipykernel_3440\\2276683101.py:3: LangChainDeprecationWarning: The class `HuggingFaceEmbeddings` was deprecated in LangChain 0.2.2 and will be removed in 1.0. An updated version of the class exists in the :class:`~langchain-huggingface package and should be used instead. To use it run `pip install -U :class:`~langchain-huggingface` and import as `from :class:`~langchain_huggingface import HuggingFaceEmbeddings``.\n",
      "  embeddings=HuggingFaceEmbeddings(model_name= 'sentence-transformers/all-MiniLM-L6-v2')\n",
      "c:\\Users\\Osei Tutu Dickson\\miniconda3\\envs\\menbot\\lib\\site-packages\\tqdm\\auto.py:21: TqdmWarning: IProgress not found. Please update jupyter and ipywidgets. See https://ipywidgets.readthedocs.io/en/stable/user_install.html\n",
      "  from .autonotebook import tqdm as notebook_tqdm\n"
     ]
    }
   ],
   "source": [
    "embeddings = download_from_hugging_face_embeddings()"
   ]
  },
  {
   "cell_type": "code",
   "execution_count": 11,
   "id": "a485662d",
   "metadata": {},
   "outputs": [
    {
     "name": "stdout",
     "output_type": "stream",
     "text": [
      "Length 384\n"
     ]
    }
   ],
   "source": [
    "query_result = embeddings.embed_query('Hello World')\n",
    "print('Length', len(query_result))"
   ]
  },
  {
   "cell_type": "code",
   "execution_count": 13,
   "id": "9dc033f3",
   "metadata": {},
   "outputs": [
    {
     "data": {
      "text/plain": [
       "True"
      ]
     },
     "execution_count": 13,
     "metadata": {},
     "output_type": "execute_result"
    }
   ],
   "source": [
    "from dotenv import load_dotenv\n",
    "load_dotenv()"
   ]
  },
  {
   "cell_type": "code",
   "execution_count": 34,
   "id": "065116f1",
   "metadata": {},
   "outputs": [],
   "source": [
    "PINECONE_API_KEY = os.environ.get('PINECONE_API_KEY')"
   ]
  },
  {
   "cell_type": "code",
   "execution_count": 36,
   "id": "5001cc0e",
   "metadata": {},
   "outputs": [],
   "source": [
    "from pinecone import Pinecone, ServerlessSpec\n",
    "\n",
    "\n",
    "pc = Pinecone(api_key=PINECONE_API_KEY)\n",
    "\n",
    "index_name = \"mentalbot\"\n",
    "\n",
    "if not pc.has_index(index_name):\n",
    "    pc.create_index(\n",
    "        name=index_name,\n",
    "        dimension=384,  \n",
    "        metric=\"cosine\",\n",
    "        spec=ServerlessSpec(\n",
    "            cloud=\"aws\",\n",
    "            region=\"us-east-1\"\n",
    "        )\n",
    "    )"
   ]
  },
  {
   "cell_type": "code",
   "execution_count": 38,
   "id": "ef7af80a",
   "metadata": {},
   "outputs": [],
   "source": [
    "# Embed each chunk and upsert the embeddings into your Pincode index\n",
    "import os\n",
    "os.environ[\"PINECONE_API_KEY\"] = PINECONE_API_KEY\n",
    "\n",
    "from langchain_pinecone import PineconeVectorStore\n",
    "\n",
    "docsearch = PineconeVectorStore.from_documents(\n",
    "    documents = text_chunks,\n",
    "    index_name = index_name,\n",
    "    embedding = embeddings\n",
    ")"
   ]
  },
  {
   "cell_type": "code",
   "execution_count": 39,
   "id": "86ab60e8",
   "metadata": {},
   "outputs": [],
   "source": [
    "# Embed each chunk and upsert the EXISTING embeddings into your Pincode index\n",
    "docsearch = PineconeVectorStore.from_existing_index(\n",
    "    index_name = index_name,\n",
    "    embedding = embeddings\n",
    ")"
   ]
  },
  {
   "cell_type": "code",
   "execution_count": 40,
   "id": "f623a46a",
   "metadata": {},
   "outputs": [
    {
     "data": {
      "text/plain": [
       "<langchain_pinecone.vectorstores.PineconeVectorStore at 0x1c68c23f700>"
      ]
     },
     "execution_count": 40,
     "metadata": {},
     "output_type": "execute_result"
    }
   ],
   "source": [
    "docsearch"
   ]
  },
  {
   "cell_type": "code",
   "execution_count": 41,
   "id": "ca709f9c",
   "metadata": {},
   "outputs": [],
   "source": [
    "retriever = docsearch.as_retriever(search_type = 'similarity', search_kwargs={\"k\":3})"
   ]
  },
  {
   "cell_type": "code",
   "execution_count": 42,
   "id": "c146fa3e",
   "metadata": {},
   "outputs": [],
   "source": [
    "retrieved_docs = retriever.invoke(\"What is depression?\")"
   ]
  },
  {
   "cell_type": "code",
   "execution_count": 43,
   "id": "90950d5d",
   "metadata": {},
   "outputs": [
    {
     "data": {
      "text/plain": [
       "[Document(id='7e10cbbd-0b7c-4295-ad4d-4688b3b8180a', metadata={'author': 'pooja zinta', 'creationdate': \"D:20250327050044Z00'00'\", 'creator': 'Canva', 'keywords': 'DAGUqRTE-90,BAFNEpJA3Lg,0', 'moddate': \"D:20250327050044Z00'00'\", 'page': 4.0, 'page_label': '5', 'producer': 'GPL Ghostscript 10.00.0', 'source': 'C:\\\\Users\\\\Osei Tutu Dickson\\\\Desktop\\\\Gen AI\\\\mental-health-chatbot-gen-ai\\\\Data\\\\ClarityintheChaos-updated.pdf', 'title': 'Clarity in the Chaos', 'total_pages': 42.0}, page_content=\"itself to the circumstances of each individual, often without our conscious\\nawareness.\\nIn today's fast-paced world, daily stress from work, relationships, and\\nfinances builds up like a storm. Deeper stress from unresolved trauma or\\nchronic anxiety lingers, impacting both mental and physical well-being.\"),\n",
       " Document(id='c8179be0-c05a-4a7d-8ff6-4582629c6fe2', metadata={'author': 'pooja zinta', 'creationdate': \"D:20250327050044Z00'00'\", 'creator': 'Canva', 'keywords': 'DAGUqRTE-90,BAFNEpJA3Lg,0', 'moddate': \"D:20250327050044Z00'00'\", 'page': 9.0, 'page_label': '10', 'producer': 'GPL Ghostscript 10.00.0', 'source': 'C:\\\\Users\\\\Osei Tutu Dickson\\\\Desktop\\\\Gen AI\\\\mental-health-chatbot-gen-ai\\\\Data\\\\ClarityintheChaos-updated.pdf', 'title': 'Clarity in the Chaos', 'total_pages': 42.0}, page_content='stress currently plays in your life. Is it a passing storm or a constant\\ncompanion? Understanding your own stress patterns is the first step\\ntoward healing—and I’m here to guide you every step of the way.\\nLet’s begin this journey to a clearer, more peaceful mind.\\nThe Road Ahead\\n\"When we are no longer able to change a situation, we\\nare challenged to change ourselves.\"\\n— Viktor E. Frankl'),\n",
       " Document(id='4e29c39a-421c-4da3-a371-3b283b6c1d2a', metadata={'author': 'pooja zinta', 'creationdate': \"D:20250327050044Z00'00'\", 'creator': 'Canva', 'keywords': 'DAGUqRTE-90,BAFNEpJA3Lg,0', 'moddate': \"D:20250327050044Z00'00'\", 'page': 4.0, 'page_label': '5', 'producer': 'GPL Ghostscript 10.00.0', 'source': 'C:\\\\Users\\\\Osei Tutu Dickson\\\\Desktop\\\\Gen AI\\\\mental-health-chatbot-gen-ai\\\\Data\\\\ClarityintheChaos-updated.pdf', 'title': 'Clarity in the Chaos', 'total_pages': 42.0}, page_content='5\\nC H A P T E R  1 Dr. Angela Cano Sampson\\nThe Mind’s Storm:\\nUnderstanding Stress\\nand Its Impact\\nStress is a universal experience, yet it’s deeply personal. It manifests in\\ndifferent forms for different people—ranging from fleeting moments of\\nanxiety before a big presentation to a constant, oppressive weight that\\nnever seems to lift.  \\nStress can be as simple as rushing to meet a deadline or as complex as\\ngrappling with trauma from a difficult past. It’s a shape-shifter, adapting')]"
      ]
     },
     "execution_count": 43,
     "metadata": {},
     "output_type": "execute_result"
    }
   ],
   "source": [
    "retrieved_docs"
   ]
  }
 ],
 "metadata": {
  "kernelspec": {
   "display_name": "menbot",
   "language": "python",
   "name": "python3"
  },
  "language_info": {
   "codemirror_mode": {
    "name": "ipython",
    "version": 3
   },
   "file_extension": ".py",
   "mimetype": "text/x-python",
   "name": "python",
   "nbconvert_exporter": "python",
   "pygments_lexer": "ipython3",
   "version": "3.10.18"
  }
 },
 "nbformat": 4,
 "nbformat_minor": 5
}
