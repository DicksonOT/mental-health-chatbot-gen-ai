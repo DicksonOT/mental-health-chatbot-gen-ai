{
 "cells": [
  {
   "cell_type": "code",
   "execution_count": null,
   "id": "0faddd9a",
   "metadata": {},
   "outputs": [],
   "source": [
    "print(\"Osei Tutu\")"
   ]
  }
 ],
 "metadata": {
  "kernelspec": {
   "display_name": "menbot",
   "language": "python",
   "name": "python3"
  },
  "language_info": {
   "name": "python",
   "version": "3.10.18"
  }
 },
 "nbformat": 4,
 "nbformat_minor": 5
}
